{
  "cells": [
    {
      "cell_type": "markdown",
      "metadata": {
        "id": "c5CFdOjlLdyJ"
      },
      "source": [
        "**Who Am I ?**"
      ]
    },
    {
      "cell_type": "code",
      "execution_count": null,
      "metadata": {
        "id": "_uB7Cw_bYv9F"
      },
      "outputs": [],
      "source": [
        "# Mohammad Hosein Jafari\n",
        "# git: https://github.com/MohammadHoseinJafari\n",
        "# github repository for my Tasks : https://github.com/MohammadHoseinJafari/TextSpeach"
      ]
    },
    {
      "cell_type": "markdown",
      "metadata": {
        "id": "IZ6mdvneLJ9e"
      },
      "source": [
        "Task 1 - 1 ( **Random choice Problem** )"
      ]
    },
    {
      "cell_type": "code",
      "execution_count": 1,
      "metadata": {
        "colab": {
          "base_uri": "https://localhost:8080/"
        },
        "id": "Id3fQddOxSRC",
        "outputId": "0af74173-c0de-4560-eab2-3ff081b07fb1"
      },
      "outputs": [
        {
          "name": "stdout",
          "output_type": "stream",
          "text": [
            "uniform probability : hosein\n",
            "Distributed probability : hosein\n"
          ]
        }
      ],
      "source": [
        "#Task 1-1\n",
        "\n",
        "import numpy as np\n",
        "\n",
        "# for calculate normal randomly selection (probabilities without distributions)\n",
        "def Uinform(Names):\n",
        "    return np.random.choice(Names)\n",
        "\n",
        "# for calculate distributed randomly selection (probabilities with distributions)\n",
        "def Distributed(Names,Distributions):\n",
        "    # at this section of code i should normalizations Distributions list ( sum(Dist) == 1 or close to 1 )\n",
        "    return np.random.choice(Names, p = Distributions)\n",
        "\n",
        "# function for get name and distribute list and call above functions\n",
        "def implementation():\n",
        "    Names = []\n",
        "    Distributions = []\n",
        "\n",
        "    while True:\n",
        "      _name  = str(input('Enter your Name : '))\n",
        "      # condition to stop the while loop\n",
        "      if _name == \"\" :\n",
        "        break\n",
        "      _alpha = float(input('Enter your Distributions : ')) # float Data Type\n",
        "      Names.append(_name)\n",
        "      Distributions.append(_alpha)\n",
        "\n",
        "    print(\"uniform probability :\",Uinform(Names))\n",
        "    print(\"Distributed probability :\",Distributed(Names,Distributions))\n",
        "\n",
        "#call implementation function\n",
        "implementation()"
      ]
    },
    {
      "cell_type": "markdown",
      "metadata": {
        "id": "IcqKEtocK4mz"
      },
      "source": [
        "Task 1 - 2 **(ChessBoard with N)**"
      ]
    },
    {
      "cell_type": "code",
      "execution_count": 2,
      "metadata": {
        "colab": {
          "base_uri": "https://localhost:8080/",
          "height": 434
        },
        "id": "bAh8Jrtfakc2",
        "outputId": "4f47df1a-f8b5-4184-fa12-3822ad44abb5"
      },
      "outputs": [
        {
          "ename": "ModuleNotFoundError",
          "evalue": "No module named 'google.colab'",
          "output_type": "error",
          "traceback": [
            "\u001b[1;31m---------------------------------------------------------------------------\u001b[0m",
            "\u001b[1;31mModuleNotFoundError\u001b[0m                       Traceback (most recent call last)",
            "\u001b[1;32mc:\\Users\\TOOSCOM\\Downloads\\All-Task.ipynb Cell 6\u001b[0m in \u001b[0;36m<module>\u001b[1;34m\u001b[0m\n\u001b[0;32m      <a href='vscode-notebook-cell:/c%3A/Users/TOOSCOM/Downloads/All-Task.ipynb#W5sZmlsZQ%3D%3D?line=0'>1</a>\u001b[0m \u001b[39m#Task 1-2\u001b[39;00m\n\u001b[0;32m      <a href='vscode-notebook-cell:/c%3A/Users/TOOSCOM/Downloads/All-Task.ipynb#W5sZmlsZQ%3D%3D?line=2'>3</a>\u001b[0m \u001b[39mimport\u001b[39;00m \u001b[39mcv2\u001b[39;00m\n\u001b[1;32m----> <a href='vscode-notebook-cell:/c%3A/Users/TOOSCOM/Downloads/All-Task.ipynb#W5sZmlsZQ%3D%3D?line=3'>4</a>\u001b[0m \u001b[39mfrom\u001b[39;00m \u001b[39mgoogle\u001b[39;00m\u001b[39m.\u001b[39;00m\u001b[39mcolab\u001b[39;00m\u001b[39m.\u001b[39;00m\u001b[39mpatches\u001b[39;00m \u001b[39mimport\u001b[39;00m cv2_imshow \u001b[39m#colab cant read cv2.imshow()\u001b[39;00m\n\u001b[0;32m      <a href='vscode-notebook-cell:/c%3A/Users/TOOSCOM/Downloads/All-Task.ipynb#W5sZmlsZQ%3D%3D?line=5'>6</a>\u001b[0m \u001b[39mdef\u001b[39;00m \u001b[39mCreate_Image\u001b[39m(N):\n\u001b[0;32m      <a href='vscode-notebook-cell:/c%3A/Users/TOOSCOM/Downloads/All-Task.ipynb#W5sZmlsZQ%3D%3D?line=6'>7</a>\u001b[0m   squre \u001b[39m=\u001b[39m np\u001b[39m.\u001b[39mones((N,N), dtype\u001b[39m=\u001b[39mnp\u001b[39m.\u001b[39muint32) \u001b[39m*\u001b[39m \u001b[39m255\u001b[39m   \u001b[39m# draw a white page with N*N dimensions\u001b[39;00m\n",
            "\u001b[1;31mModuleNotFoundError\u001b[0m: No module named 'google.colab'"
          ]
        }
      ],
      "source": [
        "#Task 1-2\n",
        "\n",
        "import cv2\n",
        "# from google.colab.patches import cv2_imshow #colab cant read cv2.imshow()\n",
        "\n",
        "def Create_Image(N):\n",
        "  squre = np.ones((N,N), dtype=np.uint32) * 255   # draw a white page with N*N dimensions\n",
        "\n",
        "  for row in range(0, N, N // 16): # traverse on the row of matrix (image frame)\n",
        "      for col in range(0, N, N // 16): # traverse on the column of matrix (image frame)\n",
        "          \"\"\"\n",
        "           traverse at the white page and find location for drawing black box\n",
        "           for example N = 400 , N//16 -> 25  , so evry black box is 25*25\n",
        "           Now we have a Traverse like :\n",
        "           every box -> 25*25\n",
        "\n",
        "           - box   box   box   box\n",
        "           -    box   box   box   box\n",
        "           - box   box   box   box\n",
        "           -    box   box   box   box\n",
        "\n",
        "          \"\"\"\n",
        "          if (row // (N // 16) + col // (N // 16)) % 2 == 0:\n",
        "              # draw black box in the squre page\n",
        "              squre[row:row + N // 16, col:col + N // 16] = 0\n",
        "\n",
        "  # if replace a Bigger number instead of 16 at N//16 , our black box have smaller size\n",
        "  # for\n",
        "  cv2_imshow(squre)\n",
        "  cv2.waitKey(0)\n",
        "  cv2.destroyAllWindows()\n",
        "\n",
        "\n",
        "Num = int(input(\"please Enter N :\"))\n",
        "Create_Image(Num)\n"
      ]
    },
    {
      "cell_type": "markdown",
      "metadata": {
        "id": "tfEsGLuAKtuT"
      },
      "source": [
        "Task 1 - 3 **(Fibonacci)**"
      ]
    },
    {
      "cell_type": "code",
      "execution_count": null,
      "metadata": {
        "colab": {
          "base_uri": "https://localhost:8080/"
        },
        "id": "C_LeWM6bcMkN",
        "outputId": "c40dce46-31ac-415d-9ef8-c289e3639637"
      },
      "outputs": [
        {
          "name": "stdout",
          "output_type": "stream",
          "text": [
            "Enter a Number : 8\n",
            "[0, 1, 1, 2, 3, 5, 8, 13]\n"
          ]
        }
      ],
      "source": [
        "# Task 1-3\n",
        "# Time complexity : O(n)\n",
        "\n",
        "def fibo(n):\n",
        "    series = [0, 1]\n",
        "    for i in range(2, n):\n",
        "        series.append(series[i-1] + series[i-2])\n",
        "    return series\n",
        "\n",
        "n = int(input(\"Enter a Number : \"))\n",
        "print( n==0 if 0 else fibo(n))"
      ]
    },
    {
      "cell_type": "markdown",
      "metadata": {
        "id": "XYLX9SzFQuC5"
      },
      "source": [
        "Task 1 - 4 ( **String Task** )"
      ]
    },
    {
      "cell_type": "code",
      "execution_count": null,
      "metadata": {
        "colab": {
          "base_uri": "https://localhost:8080/"
        },
        "id": "a1F9VjOb8a9j",
        "outputId": "0a1f4be4-2fe0-4b05-dbf7-b425db887f75"
      },
      "outputs": [
        {
          "name": "stdout",
          "output_type": "stream",
          "text": [
            "List of Distances :  [5, 2, 4, 6, 7, 5, 1, 5, 4, 1, 1, 1, 4, 1, 4, 5, 3, 2, 5, 3, 5, 2, 4, 4, 2, 1, 4, 1, 4, 1, 4, 3, 2, 5, 4, 4, 2, 4, 1, 5, 4, 4, 4, 7, 1, 2, 4, 4, 1, 5, 3, 1, 4, 1, 1, 3, 3, 3, 4, 4, 1, 1, 3, 4, 3, 3, 3, 2, 1, 2, 1, 5, 2, 1, 2, 5, 4, 1, 5, 3, 4, 1, 4, 3, 7, 7, 6, 1, 2, 3, 3, 4, 3, 2, 4, 6, 8, 5, 5, 2, 3, 3, 1, 1, 3, 3, 1, 2, 4, 5, 6, 5, 2, 1, 1, 3, 3, 2, 5, 4, 4, 2, 2, 2, 2, 4, 2, 1, 3, 4, 6, 1, 7, 1, 7, 5, 8, 8, 9, 6, 7, 5, 5, 6, 6, 1, 8, 2, 7, 9, 1, 4, 4, 1, 1, 1, 4, 4, 5, 5, 1, 4, 3, 1, 1, 1, 1, 3, 4, 7, 1, 1, 1, 1, 2, 3, 2, 2, 3, 2, 5, 1, 3, 2, 2, 1, 1, 2, 4, 4, 4, 5, 4, 3, 1, 3, 1, 3, 2, 3, 3, 1, 6, 3, 2, 3, 2, 3, 3, 2, 4, 5, 2, 1, 1, 1, 2, 1, 2, 5, 4, 5, 2, 1, 2, 2, 2, 4, 1, 3, 5, 3, 2, 4, 1, 5, 1, 6, 6, 1, 5, 3, 4, 5, 11, 4, 1, 3, 5, 3, 7, 2, 4, 1, 3, 2, 4, 6, 4, 1, 1, 2, 2, 3, 3, 5, 5, 1, 3, 5, 6, 6, 1, 3, 2, 6, 1, 5, 1, 4, 4, 3, 7, 3, 1, 2, 1, 2, 4, 2, 3, 1, 5, 1, 3, 5, 2, 2, 2, 4, 5, 3, 2, 4, 6, 2, 4, 6, 5, 9, 3, 7, 3, 2, 4, 1, 3, 8, 3, 8, 10, 2, 2, 3, 2, 3, 1, 3, 3, 2, 1, 3, 6, 4, 5, 5, 1, 3, 3, 5, 7, 2, 2, 2, 3, 3, 2, 5, 4, 4, 4, 4, 2, 6, 6, 2, 3, 3, 3, 3, 4, 3, 2, 3, 3, 4, 2, 3, 3, 2, 2, 3, 3, 3, 3, 1, 4, 13, 12, 5, 1, 7, 7, 3, 2, 3, 3, 3, 2, 5, 3, 5, 4, 3, 3, 1, 3, 3, 5, 4, 4, 5, 2, 3, 1, 3, 3, 2, 4, 4, 5, 2, 3, 1, 3, 5, 2, 2, 1, 4, 3, 3, 3, 1, 6, 6, 1, 7, 5, 1, 5, 1, 3, 2, 1, 3, 1, 6, 1, 1, 3, 3, 7, 6, 7, 2, 1, 3, 1, 1, 6, 2, 2, 1, 3, 5, 4, 1, 6, 5, 3, 3, 3, 2, 1, 1, 3, 3, 2, 1, 1, 13, 2, 2, 4, 2, 9, 1, 2, 5, 4, 2, 2, 1, 1, 2, 2, 2, 2, 2, 2, 5, 1, 4, 2, 4, 5, 3, 1, 5, 6, 3, 4, 3, 4, 3, 1, 1, 5, 3, 2, 1, 8, 4, 2, 2, 2, 1, 4, 1, 1, 2, 1, 2, 1, 6, 3, 8, 6, 5, 1, 3, 1, 3, 1, 2, 3, 2, 4, 3, 2, 1, 3, 1, 13, 12, 3, 5, 3, 2, 1, 3, 1, 4, 2, 4, 2, 3, 2, 1, 3, 3, 2, 1, 1, 3, 5, 5, 4, 6, 7, 4, 2, 1, 6, 8, 2, 2, 3, 3, 3, 2, 1, 4, 4, 4, 3, 1, 4, 3, 1, 1, 8, 6, 13, 2, 3, 5, 5, 4, 3, 1, 4, 1, 3, 2, 3, 1, 6, 8, 2, 3, 1, 2, 3, 1, 4, 4, 2, 1, 3, 6, 5, 5, 3, 6, 4, 5, 4, 6, 6, 6, 5, 3, 6, 5, 6, 6, 4, 4, 3, 4, 2, 6, 5, 2, 5, 4, 7, 4, 2, 6, 3, 5, 3, 2, 4, 3, 5, 2, 6, 6, 7, 3, 1, 2, 4, 3, 6, 3, 4, 1, 1, 4, 4, 2, 4, 3, 6, 6, 8, 7, 8, 11, 3, 6, 6, 4, 7, 4, 5, 3, 8, 5, 4, 5, 1, 3, 3, 2, 2, 5, 3, 1, 5, 7, 8, 3, 2, 2, 3, 6, 4, 3, 4, 3, 3, 4, 6, 1, 4, 6, 1, 5, 4, 4, 2, 3, 4, 4, 8, 4, 7, 5, 5, 7, 2, 7, 2, 4, 7, 4, 5, 4, 3, 2, 4, 5, 4, 7, 2, 4, 2, 3, 6, 2, 1, 3, 5, 1, 1, 5, 5, 1, 2, 1, 3, 1, 2, 5, 10, 10, 4, 4, 3, 6, 5, 6, 6, 3, 5, 1, 3, 4, 7, 3, 3, 5, 4, 4, 3, 5, 4, 7, 4, 4, 5, 5, 3, 3, 2, 3, 3, 1, 6, 7, 2, 2, 3, 2, 4, 4, 4, 4, 2, 12, 13, 2, 4, 5, 5, 2, 3, 6, 10, 1, 1, 4, 5, 3, 5, 4, 8, 9, 1, 1, 3, 7, 6, 2, 1, 3, 2, 5, 2, 2, 5, 6, 2, 2, 2, 7, 5, 5, 2, 4, 4, 4, 3, 3, 4, 3, 2, 1, 3, 1, 1, 3, 3, 5, 6, 5, 1, 3, 5, 3, 2, 3, 5, 8, 7, 1, 2, 1, 4, 5, 2, 1, 1, 2, 2, 3, 3, 7, 8, 4, 6, 6, 7, 1, 3, 5, 1, 6, 6, 7, 4, 4, 1, 3, 4, 1, 2, 3, 2, 1, 3, 3, 6, 1, 2, 5, 5, 2, 4, 3, 7, 5, 3, 3, 1, 1, 2, 3, 5, 6, 3, 4, 2, 2, 3, 2, 4, 3, 5, 7, 1, 4, 2, 7, 4, 4, 4, 2, 5, 1, 1, 3, 3, 2, 4, 4, 4, 5, 2, 5, 6, 1, 3, 4, 2, 3, 3, 1, 2, 3, 2, 4, 2, 3, 3, 6, 6, 4, 2, 3, 2, 3, 3, 2, 3, 3, 5, 1, 6, 6, 2, 7, 5, 4, 5, 5, 3, 1, 7, 2, 5, 2, 3, 2, 1, 5, 5, 5, 1, 4, 1, 4, 5, 6, 2, 5, 1, 2, 1, 3, 3, 1, 1, 4, 5, 5, 5, 3, 3, 7, 1, 8, 6, 1, 3, 2, 4, 4, 1, 8, 8, 13, 3, 10, 1, 5, 4, 3, 4, 5, 5, 1, 5, 5, 1, 3, 1, 2, 1, 2, 4, 4, 4, 1, 4, 4, 6, 5, 9, 2, 6, 8, 5, 2, 10, 9, 6, 5, 3, 4, 5, 6, 5, 5, 3, 1, 5, 6, 8, 4, 4, 2, 2, 4, 9, 7, 2, 5, 4, 6, 2, 1, 3, 5, 3, 6, 4, 6, 6, 2, 3, 7, 1, 2, 2, 6, 6, 4, 6, 1, 6, 9, 8, 1, 2, 2, 4, 2, 3, 6, 6, 3, 4, 3, 3, 5, 7, 1, 3, 3, 3, 3, 1, 8, 8, 2, 3, 3, 3, 8, 3, 2, 4, 5, 1, 3, 5, 6, 9, 3, 2, 3, 3, 5, 1, 7, 9, 2, 3, 6, 5, 9, 1, 10, 1, 2, 2, 2, 5, 4, 6, 5, 6, 5, 6, 4, 3, 1, 1, 2, 4, 5, 8, 2, 10, 1, 1, 4, 1, 4, 2, 2, 3, 7, 8, 3, 1, 6, 1, 2, 3, 6, 1, 5, 4, 5, 3, 5, 1, 2, 1, 2, 6, 2, 3, 2, 5, 2, 2, 2, 8, 2, 4, 7, 8, 5, 3, 6, 2, 7, 7, 9, 1, 1, 4, 3, 3, 3, 3, 3, 2, 2, 2, 2, 6, 1, 3, 1, 2, 5, 6, 7, 7, 4, 5, 12, 2, 3, 9, 9, 2, 1, 3, 3, 3, 9, 6, 5, 9, 8, 3, 4, 4, 5, 6, 6, 7, 7, 9, 1, 1, 1, 2, 3, 2, 4, 1, 3, 4, 2, 5, 1, 4, 4, 2, 3, 1, 4, 2, 1, 6, 5, 5, 3, 3, 4, 4, 1, 3, 3, 4, 1, 3, 3, 2, 2, 1, 4, 2, 2, 1, 2, 5, 3, 1, 1, 3, 1, 4, 4, 2, 1, 1, 9, 9, 1, 5, 5, 1, 3, 2, 5, 2, 2, 1, 3, 5, 4, 3, 4, 3, 2, 2, 5, 1, 1, 4, 4, 4, 2, 4, 5, 4, 1, 4, 2, 2, 6, 1, 2, 1, 2, 3, 2, 3, 3, 4, 1, 2, 2, 3, 1, 3, 5, 1, 12, 10, 6, 2, 3, 6, 1, 2, 2, 3, 3, 2, 3, 2, 1, 2, 4, 7, 4, 6, 5, 4, 5, 1, 1, 1, 1, 3, 7, 6, 4, 1, 2, 3, 11, 10, 2, 5, 4, 2, 4, 3, 3, 2, 6, 5, 1, 1, 3, 5, 5, 1, 1, 3, 4, 3, 4, 1, 8, 5, 3, 6, 2, 4, 1, 1, 1, 6, 7, 5, 3, 3, 3, 1, 3, 3, 2, 6, 7, 4, 3, 6, 1, 2, 3, 4, 4, 2, 1, 1, 3, 2, 1, 3, 1, 1, 6, 4, 2, 3, 5, 4, 2, 3, 4, 5, 2, 5, 6, 4, 2, 1, 3, 3, 9, 5, 8, 9, 5, 5, 6, 6, 7, 5, 4, 12, 9, 3, 2, 6, 7, 3, 5, 5, 3, 4, 2, 5, 5, 8, 1, 3, 4, 1, 3, 3, 2, 3, 3, 3, 1, 4, 3, 2, 1, 1, 3, 4, 1, 3, 2, 1, 1, 4, 2, 4, 6, 7, 2, 3, 4, 1, 1, 3, 4, 3, 2, 3, 1, 8, 4, 6, 6, 3, 1, 1, 2, 1, 3, 4, 2, 5, 3, 3, 1, 3, 4, 2, 3, 3, 4, 5, 1, 1, 4, 6, 3, 2, 7, 3, 7, 3, 4, 4, 3, 8, 4, 4, 7, 1, 7, 1, 3, 4, 3, 1, 2, 4, 1, 5, 3, 1, 2, 3, 1, 1, 3, 2, 2, 5, 5, 5, 4, 2, 1, 2, 3, 2, 3, 7, 5, 3, 7, 4, 4, 2, 5, 1, 5, 4, 2, 6, 1, 3, 4, 1, 2, 5, 1, 3, 5, 1, 6, 1, 1, 3, 5, 5, 4, 4, 3, 3, 4, 3, 1, 1, 4, 1, 3, 5, 1, 1, 3, 2, 1, 10, 1, 4, 5, 2, 6, 1, 3, 2, 3, 5, 4, 1, 1, 3, 2, 1, 6, 1, 1, 3, 5, 2, 1, 1, 3, 3, 4, 4, 1, 2, 1, 8, 5, 1, 3, 7, 4, 2, 1, 3, 9, 1, 2, 7, 4, 4, 7, 2, 3, 1, 3, 2, 4, 6, 4, 5, 1, 3, 2, 6, 4, 2, 1, 4, 7, 5, 4, 2, 2, 3, 2, 3, 1, 4, 3, 1, 5, 1, 1, 3, 3, 2, 2, 2, 1, 3, 3, 1, 4, 4, 2, 3, 3, 2, 1, 1, 5, 4, 1, 4, 2, 5, 1, 3, 2, 8, 2, 4, 4, 3, 2, 4, 3, 9, 5, 2, 1, 4, 4, 1, 4, 3, 5, 3, 2, 3, 4, 4, 1, 3, 1, 3, 4, 4, 8, 1, 1, 3, 1, 6, 6, 4, 5, 3, 7, 8, 1, 1, 7, 7, 3, 3, 2, 3, 2, 3, 2, 4, 6, 3, 6, 5, 4, 4, 4, 4, 2, 6, 8, 6, 5, 3, 6, 6, 6, 8, 7, 6, 1, 4, 1, 3, 1, 4, 5, 3, 7, 5, 2, 1, 1, 2, 3, 2, 1, 2, 3, 4, 3, 4, 4, 3, 3, 1, 4, 1, 3, 3, 6, 4, 4, 4, 1, 3, 3, 1, 1, 3, 4, 2, 3, 2, 4, 1, 2, 6, 5, 3, 6, 1, 5, 3, 2, 6, 3, 1, 3, 5, 5, 4, 4, 4, 3, 7, 5, 5, 4, 5, 6, 5, 1, 2, 1, 1, 3, 4, 3, 2, 2, 1, 4, 3, 4, 3, 6, 2, 3, 3, 2, 1, 2, 2, 2, 2, 2, 1, 1, 3, 3, 4, 6, 2, 2, 4, 4, 1, 3, 2, 3, 4, 5, 4, 4, 3, 2, 3, 3, 4, 6, 3, 7, 4, 5, 4, 3, 2, 4, 3, 1, 6, 1, 3, 3, 3, 3, 3, 1, 9, 1, 1, 1, 2, 3, 2, 4, 3, 5, 1, 2, 2, 2, 5, 2, 2, 1, 1, 3, 4, 4, 4, 4, 4, 4, 1, 1, 1, 2, 3, 3, 2, 1, 2, 2, 3, 1, 1, 3, 3, 4, 3, 4, 7, 1, 1, 3, 4, 4, 2, 3, 3, 3, 2, 5, 4, 1, 6, 4, 3, 2, 4, 1, 1, 3, 3, 4, 1, 6, 3, 2, 3, 4, 3, 9, 9, 5, 5, 4, 3, 1, 5, 4, 6, 1, 1, 4, 4, 4, 3, 3, 3, 7, 4, 2, 6, 1, 3, 6, 9, 3, 3, 4, 4, 1, 3, 2, 2, 4, 2, 3, 3, 8, 7, 3, 3, 2, 6, 7, 3, 2, 3, 2, 4, 3, 4, 4, 6, 6, 1, 6, 6, 4, 9, 2, 2, 2, 2, 1, 1, 5, 7, 6, 8, 5, 3, 6, 7, 5, 6, 1, 3, 2, 3, 7, 1, 1, 2, 1, 4, 7, 5, 6, 10, 8, 9, 12, 11, 4, 2, 1, 1, 3, 1, 3, 2, 2, 6, 4, 6, 4, 8, 3, 3, 2, 7, 4, 4, 4, 3, 3, 4, 5, 3, 1, 4, 9, 2, 1, 4, 5, 1, 3, 2, 4, 5, 3, 3, 3, 5, 3, 3, 2, 5, 6, 7, 3, 2, 1, 1, 6, 5, 8, 7, 7, 2, 7, 7, 5, 5, 7, 5, 4, 6, 3, 4, 4, 5, 7, 2, 4, 9, 3, 3, 2, 2, 1, 2, 6, 4, 7, 5, 10, 3, 3, 4, 8, 4, 6, 3, 6, 2, 4, 9, 8, 6, 4, 3, 2, 2, 3, 4, 6, 3, 2, 2, 4, 4, 4, 3, 6, 3, 1, 7, 3, 2, 4, 5, 5, 2, 3, 4, 6, 3, 3, 2, 4, 8, 2, 3, 2, 6, 2, 4, 2, 7, 3, 6, 4, 3, 5, 2, 3, 6, 2, 3, 2, 6, 2, 2, 4, 5, 1, 1, 4, 3, 4, 4, 2, 2, 4, 5, 3, 4, 5, 1, 4, 1, 2, 4, 3, 3, 5, 3, 1, 1, 5, 4, 2, 2, 4, 7, 2, 4, 5, 3, 2, 5, 3, 4, 4, 6, 4, 7, 7, 2, 2, 2, 4, 2, 2, 2, 4, 3, 2, 5, 8, 3, 3, 4, 5, 2, 2, 7, 5, 1, 3, 3, 6, 2, 2, 2, 3, 8, 2, 4, 7, 5, 2, 2, 4, 4, 4, 4, 4, 3, 2, 5, 3, 3, 2, 4, 4, 5, 2, 2, 6, 5, 6, 3, 2, 2, 2, 2, 4, 3, 3, 2, 1, 4, 5, 3, 3, 5, 2, 4, 6, 4, 5, 1, 3, 2, 4, 7, 4, 4, 1, 4, 5, 2, 4, 9, 2, 2, 3]\n",
            "Count of words have distance 1 :  416\n",
            "Count of words have distance 2 :  440\n",
            "Count of words have distance 3 :  519\n",
            "List of couple name have distance 1 :  ['bugle , bugled', 'bugler , buglers', 'buglers , bugles', 'bugles , buglet', 'bugleweed , bugle-weed', \"bugs , bug's\", 'bugseed , bugseeds', 'bugsha , bugshas', 'buhlwork , buhlworks', 'bui , buy', 'buyback , buybacks', 'buick , buicks', 'buyer , buyers', \"buyers , buyer's\", 'builded , builder', 'builder , builders', 'buildup , build-up', \"buildups , buildup's\", 'builtin , built-in', 'buyout , buyouts', 'buys , buyse', 'buka , bukat', 'bul , bul.', 'bul. , bula', 'bulak , bulan', 'bulbed , bulbel', 'bulbel , bulbels', 'bulblet , bulblets', 'bulbocapnin , bulbocapnine', 'bulbocavernosus , bulbocavernous', 'bulbourethral , bulbo-urethral', \"bulbs , bulb's\", 'bulbul , bulbule', 'bulbule , bulbuls', 'bulbuls , bulbus', 'bulg , bulg.', 'bulgar , bulgari', 'bulgari , bulgaria', 'bulgaria , bulgarian', 'bulgarian , bulgarians', 'bulge , bulged', 'bulged , bulger', 'bulger , bulgers', 'bulgers , bulges', 'bulgur , bulgurs', 'bulimia , bulimiac', 'bulimiac , bulimias', 'bulkage , bulkages', 'bulked , bulker', \"bulkheads , bulkhead's\", 'bull , bull-', 'bull- , bull.', 'bull. , bulla', 'bullace , bullaces', 'bullard , bullary', 'bullate , bullated', 'bullbaiting , bull-baiting', 'bullbat , bullbats', 'bullbeggar , bull-beggar', 'disgorger , disgorges', 'disgrace , disgraced', 'disgracer , disgracers', 'disgracers , disgraces', 'disgrade , disgraded', 'disgregate , disgregated', 'disgress , disgross', 'disgruntle , disgruntled', 'disguisay , disguisal', 'disguise , disguised', 'disguisement , disguisements', 'disguiser , disguises', 'dishabituate , dishabituated', 'disharmonise , disharmonised', 'disharmonize , disharmonized', 'dishcloth , dishcloths', 'dishevelment , dishevelments', 'dishful , dishfuls', 'dishonest , dishonesty', 'dishonored , dishonorer', 'dishonoured , dishonourer', 'dishorse , dishouse', 'dishrag , dishrags', 'dishtowel , dishtowels', 'dishumor , dishumour', 'dishware , dishwares', 'dishwasher , dishwashers', 'dishwashing , dishwashings', 'dishwater , dishwatery', 'dishwatery , dishwaters', 'disilicane , disilicate', 'disilicic , disilicid', 'disilicid , disilicide', 'disyllabize , disyllabized', 'disillude , disilluded', 'disillusionise , disillusionised', 'disillusionised , disillusioniser', 'disillusionize , disillusionized', 'disillusionized , disillusionizer', 'grackle , grackles', 'gradate , gradated', 'gradated , gradates', \"gradations , gradation's\", 'grade , graded', 'grader , graders', 'graders , grades', 'gradgrindish , gradgrindism', \"gradients , gradient's\", 'gradin , gradine', 'gradine , gradines', 'grading , gradings', 'gradino , gradins', 'grados , grads', 'gradual , graduale', 'gradualism , gradualist', 'graduand , graduands', 'graduate , graduated', 'graduation , graduations', 'graduator , graduators', 'graecise , graecised', 'graecize , graecized', 'graecized , graecizes', 'graehme , graeme', 'graffiti , graffito', 'graftage , graftages', 'grafted , grafter', 'grafter , grafters', 'grager , gragers', 'graham , grahame', \"grahams , graham's\", 'graiae , graian', 'grayback , graybacks', 'graybearded , gray-bearded', 'graylag , graylags', 'grailing , grayling', 'grayling , graylings', 'grainer , grainery', 'grainfield , grainfields', 'grainsman , grainsmen', 'grayout , grayouts', 'grallina , gralline', 'gram , gram.', 'gram. , grama', 'gramary , gramarye', 'gramaries , gramaryes', 'gramas , gramash', 'gramineae , gramineal', \"grammars , grammar's\", 'gramme , grammel', 'grammel , grammes', 'kouroi , kouros', 'kouros , kourou', 'kousso , koussos', 'kowtow , kow-tow', 'kowtowed , kowtower', 'kowtower , kowtowers', 'koziara , koziarz', 'kpc , kph', 'kpno , kpo', 'kr , kr.', 'kr. , kra', 'kraft , krafts', 'kragerite , krageroite', 'krait , kraits', 'krakatao , krakatau', 'kraken , krakens', 'kral , krall', 'krang , kranj', 'kranj , krans', 'krater , kraters', 'kraus , krause', 'krause , krausen', 'kreager , kreamer', 'kreep , kreeps', 'kreitonite , kreittonite', 'kremlinologist , kremlinologists', 'kreng , krenn', 'krepi , krepis', 'kreplach , kreplech', 'kreutzer , kreutzers', 'kreuzer , kreuzers', 'krieg , kriege', 'kriege , krieger', 'kriya-sakti , kriya-shakti', 'krill , krills', 'krimmer , krimmers', 'megacycle , megacycles', 'megadeath , megadeaths', 'megadyne , megadynes', 'megadont , megadonty', 'megadontia , megadontic', 'megaera , megaerg', 'megalesia , megalesian', 'megalocephalia , megalocephalic', 'megalodon , megalodont', 'megalograph , megalography', 'megalomania , megalomaniac', 'megalopia , megalopic', 'megalopinae , megalopine', 'megaloptera , megalopteran', 'megaloscope , megaloscopy', 'megamastictora , megamastictoral', 'megamede , megamere', 'megaphone , megaphoned', 'megaphoned , megaphones', 'megapod , megapode', 'megapode , megapodes', 'megapodidae , megapodiidae', 'megapterinae , megapterine', 'megara , megarad', 'megargee , megargel', 'megaric , megaris', 'megaron , megarons', 'megass , megasse', 'megasse , megasses', 'megatype , megatypy', 'megaton , megatons', 'peonism , peonisms', 'peopler , peoplers', 'peoplers , peoples', \"peoples , people's\", 'peoria , peorian', 'pep , pepe', 'peperine , peperino', 'peperoni , peperonis', 'pepino , pepinos', 'pepita , pepito', 'peplosed , peploses', 'peplums , peplus', 'peponid , peponida', 'peponida , peponidas', 'peponium , peponiums', 'pepped , peppel', 'peppel , pepper', 'pepperbox , pepper-box', 'peppercorn , peppercorny', 'pepperer , pepperers', 'peppermint , pepperminty', 'pepperminty , peppermints', 'peppertree , pepper-tree', 'peppi , peppy', 'peppie , peppier', 'peps , pepsi', 'pepsinate , pepsinated', 'pepsine , pepsines', 'pepsins , pepsis', 'peptide , peptides', 'peptize , peptized', 'peptized , peptizer', 'peptizer , peptizers', 'peptizers , peptizes', 'peptogen , peptogeny', 'peptonise , peptonised', 'peptonised , peptoniser', 'peptonize , peptonized', 'peptonized , peptonizer', 'peptotoxin , peptotoxine', 'per , per-', 'per- , per.', 'per. , pera', 'peracidite , peracidity', 'perai , perak', 'perambulate , perambulated', 'perambulated , perambulates', 'perambulation , perambulations', 'perambulator , perambulatory', 'perambulatory , perambulators', 'percale , percales', 'retrude , retruded', 'retrue , retruse', 'retsina , retsinas', 'retted , retter', 'retter , rettery', 'rettig , retting', 'rettore , rettory', 'rettory , rettorn', 'retune , retuned', 'retuned , retunes', 'return , re-turn', 'returned , returnee', 'returnee , returnees', 'returner , returners', 'retwine , retwined', 'reub , reube', 'reube , reuben', 'reunification , reunifications', 'reunified , reunifies', 'reunionism , reunionist', \"reunions , reunion's\", 'reunite , reunited', 'reuniter , reuniters', 'reuniters , reunites', 'reupholstered , reupholsterer', 'reuse , re-use', 'reused , reuses', 'reuter , reuters', 'reutilise , reutilised', 'reutilization , reutilizations', 'reutilize , reutilized', 'reutilized , reutilizes', 'rev , rev.', 'rev. , reva', 'revacate , revacated', 'revaccinate , revaccinated', 'revaccinated , revaccinates', 'revaccination , revaccinations', 'revay , reval', 'revalidate , revalidated', 'revaluate , revaluated', 'revaluated , revaluates', 'revaluation , revaluations', 'revalue , revalued', 'revalued , revalues', 'revamped , revamper', 'revamper , revampers', 'revanche , revanches', 'revanchism , revanchist', 'revaporize , revaporized', 'revarnished , revarnishes', 'revd , reve', 'revealer , revealers', 'revegetate , revegetated', 'reveille , reveilles', \"revelations , revelation's\", 'revelator , revelatory', 'reveled , reveler', 'reveler , revelers', 'reveller , revellers', 'revelling , revellings', 'revelrous , revelrout', 'revelrout , revel-rout', 'revenant , revenants', 'revendicate , revendicated', 'swallo , swallow', 'swallowed , swallower', 'swallowtail , swallow-tail', 'swallowtailed , swallow-tailed', 'swam , swami', 'swami , swamy', 'swamies , swamis', 'swamped , swamper', 'swamper , swampers', 'swang , swangy', 'swanherd , swanherds', 'swanhilda , swanhildas', 'swanked , swankey', 'swankey , swanker', 'swankie , swankier', 'swanlike , swan-like', 'swanmark , swan-mark', 'swanneck , swan-neck', 'swanned , swanner', 'swanner , swannery', 'swanpan , swan-pan', \"swans , swan's\", 'swanskin , swanskins', 'swap , swape', 'swapped , swapper', 'swapper , swappers', 'swarajism , swarajist', 'sware , swarf', 'swarmed , swarmer', 'swarmer , swarmers', 'swarth , swarthy', 'swas , swash', 'swashbuckle , swashbuckler', 'swashbuckling , swashbucklings', 'swashed , swasher', 'swasher , swashers', 'swashers , swashes', 'swastica , swasticas', 'swatchel , swatcher', 'swatcher , swatches', 'swathed , swather', 'swather , swathers', 'swathers , swathes', 'swati , swatis', 'swatted , swatter', 'swatter , swatters', 'swb , swbs', 'swbs , swbw', 'swearword , swear-word', 'sweated , sweater', 'sweater , sweaters', 'sweathouse , sweat-house', 'sweatshop , sweatshops', 'swec , swed', 'swed , swede', 'swedge , swedger', 'sweeney , sweeny', 'sweepstake , sweepstakes', 'sweeswee , swee-swee', 'swee-swee , swee-sweet', 'sweetbread , sweetbreads', 'sweetbriar , sweetbrier', 'sweetbrier , sweet-brier', 'sweetbriery , sweetbriers', 'sweetened , sweetener', 'sweetener , sweeteners', 'sweetening , sweetenings', \"sweethearts , sweetheart's\", 'sweetie , sweeties', 'sweeting , sweetings', 'sweetmeal , sweetmeat', 'sweetmeat , sweetmeats', 'unsteeped , unsteepled', 'unstigmatised , unstigmatized', 'unstoked , unstoken', 'unstoken , unstolen', 'unstoppable , unstoppably', 'unstopped , unstopper', 'unstore , unstored', 'unstored , unstoried', 'unstreaked , unstreamed', 'unstriped , unstripped', 'unstubbed , unstubbled', 'unstudded , unstudied']\n"
          ]
        }
      ],
      "source": [
        "# Task 1-4\n",
        "\n",
        "Name_list = []\n",
        "\n",
        "# dynamic programming algorithm\n",
        "\n",
        "def min_distance(word1, word2):\n",
        "    word1 = word1.lower()\n",
        "    word2 = word2.lower()\n",
        "    row , col  = len(word1) , len(word2)\n",
        "    dp = [[0] * (col+1) for _ in range(row+1)] # create 2D list of 0 (we can create this with np.zeros())\n",
        "\n",
        "    for i in range(row + 1): # placement\n",
        "        dp[i][0] = i\n",
        "    for j in range(col + 1): # placement\n",
        "        dp[0][j] = j\n",
        "    for i in range(1, row + 1):\n",
        "        for j in range(1, col + 1):\n",
        "\n",
        "            if word1[i - 1] == word2[j - 1]:\n",
        "                dp[i][j] = dp[i - 1][j - 1]\n",
        "\n",
        "            else:                  #replace         # insert      #delete\n",
        "                dp[i][j] = 1 + min(dp[i - 1][j - 1], dp[i][j - 1], dp[i - 1][j])\n",
        "\n",
        "    if dp[row][col] == 1 :\n",
        "        Name_list.append(word1.rstrip('\\n')+\" , \"+word2.rstrip('\\n'))\n",
        "\n",
        "    return dp[row][col]\n",
        "\n",
        "# read file from below url:\n",
        "\n",
        "url = \"/content/drive/MyDrive/Colab Notebooks/words_input.txt\"\n",
        "file = open(url, \"r\")\n",
        "Lst = []\n",
        "line1 = file.readline()\n",
        "\n",
        "# read data and send couple word to min_distance method\n",
        "while line1:\n",
        "    line2 = file.readline()\n",
        "    dis = min_distance(line1,line2)\n",
        "    Lst.append(dis)\n",
        "    line1 = line2\n",
        "\n",
        "file.close # close file after operations\n",
        "\n",
        "Lst = Lst[:-1]\n",
        "\n",
        "print(\"List of Distances : \",Lst)\n",
        "print(\"Count of words have distance 1 : \",Lst.count(1))\n",
        "print(\"Count of words have distance 2 : \",Lst.count(2))\n",
        "print(\"Count of words have distance 3 : \",Lst.count(3))\n",
        "print(\"List of couple name have distance 1 : \",Name_list)\n"
      ]
    },
    {
      "cell_type": "markdown",
      "metadata": {
        "id": "Nf7lAx8MRD-e"
      },
      "source": [
        "Task 1 - 5 ( **find character** )"
      ]
    },
    {
      "cell_type": "code",
      "execution_count": null,
      "metadata": {
        "colab": {
          "base_uri": "https://localhost:8080/"
        },
        "id": "Mgv-8BqwKiR6",
        "outputId": "af88cdbd-5cf3-4e82-c08d-067e095a59c4"
      },
      "outputs": [
        {
          "name": "stdout",
          "output_type": "stream",
          "text": [
            "Please select part of the question (1 or 2): 2\n",
            "[['her', 'wretch', 'the', 'haunted', 'rude', 'startled', 'wiggled', 'loved', 'evil', 'divine', 'insane', 'annoying', 'gnome', 'loathsome', 'that', 'hated', 'rushed', 'shadows', 'confused', 'vicious', 'mouse', 'murderer', 'screams', 'freak', 'flaky', 'weakly', 'wanted', 'haunting', 'their', 'yeti', 'defiant', 'lightning', 'genii', 'neither', 'rotten', 'degrading', 'bullied', 'wild', 'twirling', 'titan', 'phantom', 'happy', 'harpy', 'creepy', 'cheap', 'ape', 'panicked', 'smacked', 'some', 'zombie', 'oozed', 'hooked', 'shrieked', 'his', 'ghoulish', 'foul', 'fearful', 'buried', 'terrible', 'terror', 'ghostlike', 'witch', 'this', 'slithered', 'fiend', 'djinn', 'jinn', 'objectionable', 'bloody', 'tumbled', 'teased', 'scared', 'base', 'harassed', 'banshee', 'noose', 'someone’s', 'one', 'obscene', 'shocked', 'unhinged', 'washed', 'dead', 'sprayed', 'barmy', 'crawly', 'cemetery', 'impertinent', 'imp', 'vampiric', 'magic', 'chilling', 'dingy', 'dirty', 'hydra', 'badgered', 'bird', 'weird', 'entrapped', 'rain', 'another', 'horror', 'other', 'sister’s', 'spirits', 'frightening', 'gorgon', 'gory', 'your', 'our', 'moonstruck', 'orc', 'coerced', 'indecent', 'creature', 'scary', 'pranced', 'medusa', 'ominous', 'mom’s', 'somebody’s', 'hideous', 'ghoul', 'snuggled', 'fangs', 'disturbing', 'bats', 'basilisk', 'assaulted', 'mental', 'leviathan', 'hell', 'unhallowed', 'tweeted', 'death', 'phantasmal', 'pitiful', 'flipped', 'elf', 'dreadful', 'brute', 'bumped', 'undead', 'alarmed', 'spider', 'phoenix', 'kelpie', 'slapped', 'pegasus', 'grievous', 'horrid', 'cowardly', 'troll', 'occult', 'out', 'costumed', 'decoyed', 'lonely', 'holy', 'lousy', 'spooky', 'spook', 'corpse', 'crow', 'cowed', 'confounded', 'monster', 'moonlit', 'giant', 'spiritual', 'awful', 'distasteful', 'savage', 'nightmare', 'hag', 'nightfall', 'irritating', 'tripped', 'specter', 'petrified', 'bewildered', 'wobbled', 'low', 'overwhelmed', 'ogre', 'bludgeoned', 'spooked', 'priest’s', 'vampire', 'pumpkin', 'abominable', 'black', 'cranky', 'icky', 'officially,', 'fay', 'fairy', 'crazy', 'gargoyle', 'pale', 'gulped', 'trapped', 'dazed', 'darkness', 'mean', 'bogeyman', 'any', 'nasty', 'uncanny', 'young', 'loony', 'poorly', 'werewolf', 'lifeless', 'dismayed', 'swamp', 'scraped', 'dire', 'pestered', 'spirit', 'brains', 'alarming', 'golum', 'gruesome', 'behemoth', 'bonfire', 'eerie', 'retrieved', 'pelted', 'dazzled', 'devil', 'limped', 'slimy', 'illusory', 'schizo', 'obnoxious', 'sinful', 'truthfully', 'ghostly', 'godless', 'poked', 'demon', 'merman', 'angel', 'assailed', 'twisted', 'newt', 'trembling', 'menacing', 'biting', 'intestines', 'sprite', 'tree', 'departed', 'teacher’s', 'screw', 'shivered', 'grisly', 'wildly', 'godawful', 'fog', 'offending', 'bones', 'loose', 'cyclops', 'ungodly', 'blood', 'goblin', 'offensive', 'unicorn', 'cuckoo', 'bushwhacked', 'bad', 'bedlam', 'freaked', 'jerk', 'bonkers', 'gross', 'outrageous', 'squeezed', 'ensnared', 'sea', 'deceased', 'humiliated', 'ghastly', 'annually', 'fantasy', 'daffy', 'flattered', 'repellent', 'melted', 'mermaid', 'grim', 'magical', 'single', 'cutting', 'nuts', 'supernatural', 'skulls', 'enormously', 'mummy', 'judgmentally', 'nymph', 'moonlight', 'thunder', 'daunted', 'threatening', 'sinister', 'blood-curdling', 'dog', 'dragon', 'nauseating', 'hell-hound', 'horrified', 'astounded', 'ghost', 'story', 'potty', 'up-to-no-good', 'strange', 'pagan', 'grandma’s', 'disguised', 'odious', 'invidious', 'astonished', 'deadly', 'elderly', 'murder', 'readily', 'revealed', 'chilled', 'spectral', 'charged', 'disreputable', 'dimly', 'impressed', 'make-up', 'fire-breathing', 'frozen', 'bounced', 'bogey', 'beastly', 'little', 'lunatic', 'shocking', 'delirious', 'people', 'phenomena', 'man', 'maniacal', 'fainted', 'stiff', 'disgusting', 'horrendous', 'siren', 'vampire’s', 'worms', 'minacious', 'bone-chilling', 'loon', 'skeletons', 'lake', 'plucked', 'direful', 'kindly', 'fairly', 'leprechaun', 'grave', 'repugnant', 'underfed', 'perched', 'screwy', 'staggered', 'jabbed', 'deranged', 'engulfed', 'faithfully', 'frightened', 'lightening', 'midnight', 'demolished', 'joyously', 'eventually', 'intimidated', 'masked', 'dark', 'disheartened', 'berserk', 'worthless', 'owl', 'pillow', 'potion', 'startlingly', 'slap', 'blasted', 'flicked', 'sick', 'tricks', 'terrifying', 'nighttime', 'dumbfounded', 'tomb', 'sabotaged', 'reported', 'pitched', 'fright', 'atrocious', 'shadowy', 'daily', 'dippy', 'despised', 'abusive', 'raven', 'wraithlike', 'watched', 'perfectly', 'screeched', 'horrific', 'loch', 'cold', 'doctor’s', 'unsound', 'ignominious', 'moon', 'tombstone', 'ness', 'sniffed', 'mind', 'drained', 'amazed', 'detestable', 'stories', 'bughouse', 'unholy', 'nutty', 'quaintly', 'heathen', 'bashed', 'beast', 'screwball', 'web', 'cobweb', 'gobbled', 'no-good', 'consternated', 'pushed', 'shapeshifter', 'nightmarish', 'wretched', 'viewed', 'mischievous', 'violating', 'tragic', 'cracked', 'incarnate', 'graveyard', 'deathlike', 'nuzzled', 'shuddered', 'frightful', 'full', 'rightfully', 'godzilla', 'excitedly', 'formidable', 'mad', 'examined', 'unnerved', 'stunned', 'japanese', 'contemptible', 'twirled', 'domineered', 'doom', 'shoved', 'disconcerted', 'shit', 'psychotic', 'monstrous', 'intense', 'irritated', 'repulsive', 'jumped', 'ejected', 'flabbergasted', 'bat', 'abhorrent', 'fear-inspiring', 'off-color', 'low-life', 'nervously', 'joyfully', 'goofy', 'goofed', 'griped', 'hair-raising', 'daintily', 'daft', 'terrified', 'filthy', 'frightfully', 'baleful', 'reprehensible', 'psycho', 'house', 'brimstone', 'fire', 'interestingly', 'surprised', 'dreaded', 'unearthly', 'honked', 'superstition', 'snowman', 'insolent', 'one’s', 'corpselike', 'case', 'coaxed', 'macabre', 'scurried', 'purred', 'distressing', 'grody', 'body', 'blindly', 'insulted', 'attacked', 'wacky', 'fruitcake', 'superstitious', 'frankenstein’s', 'mask', 'horseman', 'golem', 'wonderful', 'threatened', 'startling', 'appalling', 'glared', 'headless', 'dad’s', 'desecrating', 'distressed', 'poltergeist', 'appalled', 'disgraceful', 'fruity', 'constructed', 'round', 'bulldozed', 'bend', 'unzipped', 'irreverent', 'outraged', 'dodged', 'oppressed', 'lashed', 'tales', 'scattered', 'wicked', 'chased', 'sorceress', 'devoured', 'horrible', 'sordid', 'infamous', 'tyrannized', 'hunted', 'blasphemous', 'around', 'muttered', 'stupefied', 'unstable', 'mentally', 'concealed', 'snooped', 'surrounded', 'night', 'vile', 'kooky'], ['on'], ['my'], ['a'], ['at'], ['eye'], ['of'], ['an'], ['&'], ['as']]\n"
          ]
        }
      ],
      "source": [
        "# Task 1 - 5\n",
        "\n",
        "class WordProcessing:\n",
        "\n",
        "    def __init__(self):\n",
        "        self.final_list = []\n",
        "        self.visited_word = set()\n",
        "\n",
        "    # this method used for get input from user\n",
        "    def first_part(self):\n",
        "        name_list = []\n",
        "        while True:\n",
        "            string = input('Enter your words: ')\n",
        "            if string == \"\":\n",
        "                break\n",
        "            name_list.append(string)\n",
        "\n",
        "        self.find_ch(name_list) # send list of word to find_ch for category by character\n",
        "\n",
        "    # category by character implementations\n",
        "    def find_ch(self, lst):\n",
        "      # create a dictionary for words category\n",
        "        word_dict = {}\n",
        "        for word in lst:  # create all keys for above dictionary\n",
        "            key = ''.join(sorted(set(word)))\n",
        "\n",
        "            if key in word_dict: # find by keys\n",
        "                word_dict[key].append(word)\n",
        "            else:\n",
        "                word_dict[key] = [word]\n",
        "\n",
        "        print([ls for ls in word_dict.values()]) #print result\n",
        "\n",
        "\n",
        "    #part two , read file - create a list of words - word category by 3 character\n",
        "    def second_part(self):\n",
        "        url = \"/content/drive/MyDrive/Colab Notebooks/sentences_input.txt\"\n",
        "        with open(url, \"r\") as file:\n",
        "            all_words = []\n",
        "            lines = file.readlines()\n",
        "            for line in lines: #read sentences\n",
        "                line = line.rstrip('\\n')\n",
        "                lst = line.split()\n",
        "                lst = lst[1:]\n",
        "                all_words += lst #make a final list of all words\n",
        "\n",
        "            all_words = self.process_words(all_words)\n",
        "\n",
        "            for word in all_words:\n",
        "                if word not in self.visited_word:\n",
        "                    group = self.similar_words(word, all_words)\n",
        "                    self.final_list.append(group)\n",
        "\n",
        "            print(self.final_list)\n",
        "\n",
        "    # a method for convert words character to lowercase and delete repetitive word from final list\n",
        "    def process_words(self, lst):\n",
        "        new_list = []\n",
        "        for word in lst:\n",
        "            new_word = word.lower()\n",
        "            if new_word not in new_list: # check for delete repetitive words\n",
        "                new_list.append(new_word)\n",
        "\n",
        "        return new_list # return final list after delete repetitive words and convert to lowercase\n",
        "\n",
        "    #method for classifications word on the final list (make sub list by 3 similar character)\n",
        "    def similar_words(self, word, all_words):\n",
        "        if word in self.visited_word:\n",
        "            return []\n",
        "        self.visited_word.add(word)\n",
        "        group = [word]\n",
        "        for w in all_words: #check every words with final list words and make sub list -> result have O(n^2) for Time\n",
        "            if len(set(word) & set(w)) >= 3:\n",
        "                group += self.similar_words(w, all_words)\n",
        "        return group\n",
        "\n",
        "\n",
        "object = WordProcessing()\n",
        "selected_part = int(input(\"Please select a part of question (1 or 2): \"))\n",
        "if selected_part == 1:\n",
        "    object.first_part()\n",
        "else:\n",
        "    object.second_part()\n"
      ]
    },
    {
      "cell_type": "markdown",
      "metadata": {
        "id": "NmdpOvH6Otxh"
      },
      "source": [
        "Task 1 - 6 ( **Object Oriented Programming (OOP)** )"
      ]
    },
    {
      "cell_type": "code",
      "execution_count": null,
      "metadata": {
        "colab": {
          "base_uri": "https://localhost:8080/"
        },
        "id": "JfJRYYBbhtWC",
        "outputId": "40a18a5b-2c98-4351-963e-e23adfc22faf"
      },
      "outputs": [
        {
          "name": "stdout",
          "output_type": "stream",
          "text": [
            "Name: MohammadHosein-Jafari, Age: 22, Address: Khayam Blv,Mashhad\n",
            "['Deposit: +1000']\n"
          ]
        }
      ],
      "source": [
        "# Task 1 - 7\n",
        "\n",
        "# I make a Bank Class for have all accounts at the one point\n",
        "# I have 5 method : create_account , Transfer_net , display_net , transaction_history , get_customer_info\n",
        "\n",
        "class Bank:\n",
        "    def __init__(self):\n",
        "        self.accounts = []\n",
        "\n",
        "    #create account for every customer with ' Account Class() '\n",
        "    def create_account(self, customer):\n",
        "        account = Account(customer)\n",
        "        self.accounts.append(account)\n",
        "        return account\n",
        "\n",
        "    # transfer some network(amount of money) to another account with Account class method like (withdraw or deposit)\n",
        "    def transfer_net(self, from_account, to_account, amount):\n",
        "        if from_account.withdraw(amount):\n",
        "            to_account.deposit(amount)\n",
        "            print(\"transfer is successfully.\")\n",
        "        else:\n",
        "            print(\"operations failed .its will back to your account.\")\n",
        "\n",
        "    # print current net at the bank acount\n",
        "    def display_net(self, account):\n",
        "        balance = account.get_balance()\n",
        "        print(f\"Current network : {balance}\")\n",
        "\n",
        "    # print all transactions which done by current customer\n",
        "    def transaction_history(self, account):\n",
        "        history = account.get_transaction_history()\n",
        "        print(\"Transaction History:\")\n",
        "        for transaction in history:\n",
        "            print(transaction)\n",
        "\n",
        "    # print all of info for current user (customer)\n",
        "    def get_customer_info(self, customer):\n",
        "        info = customer.get_info()\n",
        "        print(f\"Customer Information : {info}\")\n",
        "\n",
        "# Account Class for acounting works\n",
        "# at the Account Class i Hava 4 method :\n",
        "# method 1 (deposit) -> for deposit money from account\n",
        "# method 2 (withdraw) -> for withdraw money from account\n",
        "# method 3 (get_balance) -> print amount of money account\n",
        "# method 1 (get_transaction_history) -> for print transaction history like (deposit-withdraw-transfer) you have in the bank system\n",
        "\n",
        "class Account:\n",
        "    def __init__(self, customer):\n",
        "        self.customer = customer\n",
        "        self.balance = 0\n",
        "        self.transaction_history = []\n",
        "\n",
        "    #method 1\n",
        "    def deposit(self, amount):\n",
        "        self.balance += amount\n",
        "        self.transaction_history.append(f\"Deposit: +{amount}\") # deposit -> variz\n",
        "\n",
        "    #method 2\n",
        "    def withdraw(self, amount):\n",
        "        if self.balance >= amount: #check if a amount for transaction are bigger than balance money\n",
        "            self.balance -= amount\n",
        "            self.transaction_history.append(f\"Withdrawal: -{amount}\") # Withdraw -> bardasht\n",
        "            return True\n",
        "        else:\n",
        "            return False\n",
        "\n",
        "    #method 3\n",
        "    def get_balance(self):\n",
        "        return self.balance\n",
        "\n",
        "    #method 4\n",
        "    def get_transaction_history(self):\n",
        "        return self.transaction_history\n",
        "\n",
        "# Person Class : for save User Informations\n",
        "# this class include 1 method\n",
        "# method 1 (get_info) : print all informations from current customer\n",
        "\n",
        "class Person:\n",
        "    def __init__(self, name, age, address):\n",
        "        self.name = name\n",
        "        self.age = age\n",
        "        self.address = address\n",
        "\n",
        "    # method 1\n",
        "    def get_info(self):\n",
        "        return f\"Name: {self.name}, Age: {self.age}, Address: {self.address}\"\n",
        "\n",
        "\n",
        "# Customer Class Inheritance from Person Class : Inheritance some User Informations\n",
        "# this class include 1 method\n",
        "# method 1 (create_account) : Create a acount for user (By Account Classes) after get name and some informations\n",
        "class Customer(Person):\n",
        "    def __init__(self, name, age, address):\n",
        "        super().__init__(name, age, address)\n",
        "        self.accounts = []\n",
        "    # method 1\n",
        "    def create_account(self, bank):\n",
        "        account = Account(self)\n",
        "        bank.accounts.append(account)\n",
        "        self.accounts.append(account)\n",
        "        return account\n",
        "\n",
        "#My Object from Above classes\n",
        "bank = Bank()\n",
        "customer = Customer(\"MohammadHosein-Jafari\", 22, \"Khayam Blv,Mashhad\")\n",
        "account = customer.create_account(bank)\n",
        "account.deposit(1000)\n",
        "\n",
        "# result :\n",
        "print(customer.get_info())\n",
        "print(account.get_transaction_history())\n"
      ]
    },
    {
      "cell_type": "code",
      "execution_count": null,
      "metadata": {
        "id": "rnI9XA2blNQ1"
      },
      "outputs": [],
      "source": []
    }
  ],
  "metadata": {
    "colab": {
      "provenance": []
    },
    "kernelspec": {
      "display_name": "Python 3",
      "name": "python3"
    },
    "language_info": {
      "codemirror_mode": {
        "name": "ipython",
        "version": 3
      },
      "file_extension": ".py",
      "mimetype": "text/x-python",
      "name": "python",
      "nbconvert_exporter": "python",
      "pygments_lexer": "ipython3",
      "version": "3.10.2"
    }
  },
  "nbformat": 4,
  "nbformat_minor": 0
}
